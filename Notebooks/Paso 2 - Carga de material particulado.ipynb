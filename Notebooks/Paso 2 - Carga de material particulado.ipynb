{
 "cells": [
  {
   "cell_type": "markdown",
   "metadata": {},
   "source": [
    "<img src=\"imagenes/iebs-logo.jpg\" alt=\"Logo IEBS\" align=\"center\">\n",
    "<br><br>\n",
    "<h1><font color=\"#113D68\" size=5>Impacto de las partículas contaminantes en la temperatura y calidad del aire en el Valle de Aburrá,  Antioquia-Colombia.</font></h1>\n",
    "\n",
    "<h1><font color=\"#113D68\" size=6>Carga del material particulado a MySQL - Paso 2</font></h1>\n",
    "\n",
    "<br><br>\n",
    "<div style=\"text-align: right\">\n",
    "<font size=3>Laura López Bedoya</font><br>\n",
    "<font size=3>Andrés Fernando Morales González</font><br>\n",
    "<font size=3>Proyecto final del Postgrado en Data Science y Machine Learning</font><br>\n",
    "<font size=3>2019 - 2020</font>\n",
    "</div>"
   ]
  },
  {
   "cell_type": "markdown",
   "metadata": {},
   "source": [
    "<a href=\"Paso 3 - Carga de la temperatura.html\" target=\"_self\">→ Ir al Paso 3 - Carga de la temperatura</a> <br> <br>\n",
    "<a href=\"Paso 1 - Descarga de datos.html\" target=\"_self\">← Regresar al Paso 1 - Descarga de datos</a>"
   ]
  },
  {
   "cell_type": "markdown",
   "metadata": {},
   "source": [
    "El material particulado lo provee SIATA descargandolo desde la Pagina Web que requiere un inicio de Sesión previo por lo que fue necesario descargarlos previamente y subirlos al servidor. Estos datos se encuentran en archivos CSV a diferencia de la temperatura. **Los archivos CSV se encuentra en la carpeta calidad_aire**.\n",
    "\n",
    "Los datos son cargados a una base de datos MySQL en Google Cloud Platform"
   ]
  },
  {
   "cell_type": "code",
   "execution_count": 1,
   "metadata": {},
   "outputs": [],
   "source": [
    "# Imports\n",
    "import pandas as pd\n",
    "import pymysql\n",
    "import os\n",
    "import datetime as dt\n",
    "from sqlalchemy import create_engine"
   ]
  },
  {
   "cell_type": "code",
   "execution_count": 2,
   "metadata": {},
   "outputs": [],
   "source": [
    "listaArchivos = os.listdir(\"./calidad_aire/v2\")"
   ]
  },
  {
   "cell_type": "markdown",
   "metadata": {},
   "source": [
    "### Guardado de los datos en la base de datos MySQL\n",
    "Decidimos guardar los datos en una base de datos MySQL para poderlos manejar, limpiar y analizar de una forma más facil."
   ]
  },
  {
   "cell_type": "code",
   "execution_count": 85,
   "metadata": {},
   "outputs": [],
   "source": [
    "# Conexion a base de datos \n",
    "host = os.getenv('MYSQL_HOST')\n",
    "port = os.getenv('MYSQL_PORT')\n",
    "user = os.getenv('MYSQL_USER')\n",
    "password = os.getenv('MYSQL_PASSWORD')\n",
    "database = os.getenv('MYSQL_DATABASE')\n",
    "\n",
    "engine = create_engine('mysql+pymysql://{0}:{1}@{2}/{3}'.\n",
    "                    format(user, password, host, database), pool_recycle=3600)\n",
    "connection = engine.connect()"
   ]
  },
  {
   "cell_type": "code",
   "execution_count": null,
   "metadata": {},
   "outputs": [],
   "source": [
    "for archivo in listaArchivos:\n",
    "    # Lectura del archivo csv\n",
    "    dataframe = pd.read_csv(\"./calidad_aire/v2/{0}\".format(archivo))\n",
    "    if \"Unnamed: 0\" in dataframe.columns:\n",
    "        dataframe = dataframe.rename(columns = {\"Unnamed: 0\": \"Fecha_Hora\"})\n",
    "    dataframe[\"temperatura\"] = [0] * dataframe.shape[0]\n",
    "    dataframe[\"latitud\"] = [0] * dataframe.shape[0]\n",
    "    dataframe[\"longitud\"] = [0] * dataframe.shape[0]\n",
    "    dataframe[\"altitud\"] = [0] * dataframe.shape[0]\n",
    "    try:\n",
    "        dataframe.to_sql(\"CALIDAD_AIRE\", connection, if_exists=\"append\", index=False)\n",
    "    except Exception as e:\n",
    "        print(e)\n",
    "connection.close()"
   ]
  },
  {
   "cell_type": "markdown",
   "metadata": {},
   "source": [
    "<a href=\"Paso 3 - Carga de la temperatura.html\" target=\"_self\">→ Ir al Paso 3 - Carga de la temperatura</a> <br> <br>\n",
    "<a href=\"Paso 1 - Descarga de datos.html\" target=\"_self\">← Regresar al Paso 1 - Descarga de datos</a>"
   ]
  }
 ],
 "metadata": {
  "kernelspec": {
   "display_name": "Python 3",
   "language": "python",
   "name": "python3"
  },
  "language_info": {
   "codemirror_mode": {
    "name": "ipython",
    "version": 3
   },
   "file_extension": ".py",
   "mimetype": "text/x-python",
   "name": "python",
   "nbconvert_exporter": "python",
   "pygments_lexer": "ipython3",
   "version": "3.8.3"
  }
 },
 "nbformat": 4,
 "nbformat_minor": 4
}
